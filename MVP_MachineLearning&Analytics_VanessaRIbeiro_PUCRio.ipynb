{
  "nbformat": 4,
  "nbformat_minor": 0,
  "metadata": {
    "colab": {
      "provenance": [],
      "authorship_tag": "ABX9TyPHDQPUMHIRXgl/a+mFdVd+",
      "include_colab_link": true
    },
    "kernelspec": {
      "name": "python3",
      "display_name": "Python 3"
    },
    "language_info": {
      "name": "python"
    }
  },
  "cells": [
    {
      "cell_type": "markdown",
      "metadata": {
        "id": "view-in-github",
        "colab_type": "text"
      },
      "source": [
        "<a href=\"https://colab.research.google.com/github/varibeirosoares/mvp_analisecienciasdedados_pucrj/blob/main/MVP_MachineLearning%26Analytics_VanessaRIbeiro_PUCRio.ipynb\" target=\"_parent\"><img src=\"https://colab.research.google.com/assets/colab-badge.svg\" alt=\"Open In Colab\"/></a>"
      ]
    },
    {
      "cell_type": "code",
      "execution_count": null,
      "metadata": {
        "id": "-y0Xm0atDEm0"
      },
      "outputs": [],
      "source": []
    },
    {
      "cell_type": "markdown",
      "source": [
        "# Pós-Graduação em Ciência de Dados e Analytics - PUC-Rio\n",
        "#MVP - Machine Learning & Analytics\n",
        "#Aluna: Vanessa Ribeiro (Abril/2024)\n",
        "\n"
      ],
      "metadata": {
        "id": "YcYr4qvYDXVn"
      }
    },
    {
      "cell_type": "markdown",
      "source": [
        "##Preparação dos dados:\n",
        "\n",
        "\n"
      ],
      "metadata": {
        "id": "PkKk3rI3EaNN"
      }
    },
    {
      "cell_type": "code",
      "source": [
        "import pandas as pd\n",
        "\n",
        "\n",
        "#indicando a url que o dataset está hospedado\n",
        "url = https://drive.google.com/file/d/1Ohgpbmj-rzsNYMlWbp4ixl05CjBjtuEh/download\n",
        "\n",
        "# Carregar o dataset\n",
        "df = pd.read_csv(url)\n",
        "\n",
        "# Exibir as primeiras linhas do dataset para entender sua estrutura\n",
        "df.head()\n"
      ],
      "metadata": {
        "colab": {
          "base_uri": "https://localhost:8080/",
          "height": 106
        },
        "id": "sbeqxgyhFFPp",
        "outputId": "a8bed5b1-e342-4306-a376-edbb7b5fc4b9"
      },
      "execution_count": 4,
      "outputs": [
        {
          "output_type": "error",
          "ename": "SyntaxError",
          "evalue": "invalid decimal literal (<ipython-input-4-d44531f28530>, line 5)",
          "traceback": [
            "\u001b[0;36m  File \u001b[0;32m\"<ipython-input-4-d44531f28530>\"\u001b[0;36m, line \u001b[0;32m5\u001b[0m\n\u001b[0;31m    url = https://drive.google.com/file/d/1Ohgpbmj-rzsNYMlWbp4ixl05CjBjtuEh/download\u001b[0m\n\u001b[0m                                          ^\u001b[0m\n\u001b[0;31mSyntaxError\u001b[0m\u001b[0;31m:\u001b[0m invalid decimal literal\n"
          ]
        }
      ]
    }
  ]
}